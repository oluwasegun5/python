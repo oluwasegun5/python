{
 "cells": [
  {
   "cell_type": "code",
   "execution_count": 5,
   "metadata": {
    "scrolled": true
   },
   "outputs": [
    {
     "name": "stdout",
     "output_type": "stream",
     "text": [
      "1\n",
      "2\n",
      "Fizz\n",
      "4\n",
      "Burz\n",
      "Fizz\n",
      "7\n",
      "8\n",
      "Fizz\n",
      "Burz\n",
      "11\n",
      "Fizz\n",
      "13\n",
      "14\n",
      "Fizz\n",
      "Burz\n",
      "16\n",
      "17\n",
      "Fizz\n",
      "19\n",
      "Burz\n",
      "Fizz\n",
      "22\n",
      "23\n",
      "Fizz\n",
      "Burz\n",
      "26\n",
      "Fizz\n",
      "28\n",
      "29\n",
      "Fizz\n",
      "Burz\n",
      "31\n",
      "32\n",
      "Fizz\n",
      "34\n",
      "Burz\n",
      "Fizz\n",
      "37\n",
      "38\n",
      "Fizz\n",
      "Burz\n",
      "41\n",
      "Fizz\n",
      "43\n",
      "44\n",
      "Fizz\n",
      "Burz\n",
      "46\n",
      "47\n",
      "Fizz\n",
      "49\n",
      "Burz\n",
      "Fizz\n",
      "52\n",
      "53\n",
      "Fizz\n",
      "Burz\n",
      "56\n",
      "Fizz\n",
      "58\n",
      "59\n",
      "Fizz\n",
      "Burz\n",
      "61\n",
      "62\n",
      "Fizz\n",
      "64\n",
      "Burz\n",
      "Fizz\n",
      "67\n",
      "68\n",
      "Fizz\n",
      "Burz\n",
      "71\n",
      "Fizz\n",
      "73\n",
      "74\n",
      "Fizz\n",
      "Burz\n",
      "76\n",
      "77\n",
      "Fizz\n",
      "79\n",
      "Burz\n",
      "Fizz\n",
      "82\n",
      "83\n",
      "Fizz\n",
      "Burz\n",
      "86\n",
      "Fizz\n",
      "88\n",
      "89\n",
      "Fizz\n",
      "Burz\n",
      "91\n",
      "92\n",
      "Fizz\n",
      "94\n",
      "Burz\n",
      "Fizz\n",
      "97\n",
      "98\n",
      "Fizz\n",
      "Burz\n"
     ]
    }
   ],
   "source": [
    "for number in range(1,101):\n",
    "\n",
    "    if number % 15 == 0:\n",
    "        print('Fizz\\nBurz')\n",
    "    elif number % 3 == 0:\n",
    "        print('Fizz')\n",
    "    elif number % 5 == 0:\n",
    "        print('Burz')\n",
    "\n",
    "    else:\n",
    "        print(number)\n",
    "    number += 1\n"
   ]
  },
  {
   "cell_type": "code",
   "execution_count": 1,
   "metadata": {},
   "outputs": [
    {
     "name": "stdout",
     "output_type": "stream",
     "text": [
      "1\n",
      "2\n",
      "3\n",
      "4\n",
      "5\n"
     ]
    }
   ],
   "source": [
    "number = 1\n",
    "while number < 11:\n",
    "    if number == 5:\n",
    "        print(number)\n",
    "        break\n",
    "    print(number)\n",
    "    number += 1\n",
    "else:\n",
    "    print('ALL WENT WELL')"
   ]
  },
  {
   "cell_type": "code",
   "execution_count": null,
   "metadata": {
    "scrolled": true
   },
   "outputs": [
    {
     "name": "stdout",
     "output_type": "stream",
     "text": [
      "Guess a number: 5\n",
      "Number is too low, you have 4 chance left\n"
     ]
    }
   ],
   "source": [
    "import random\n",
    "\n",
    "my_number = random.randint(1,10)\n",
    "\n",
    "chance = 4\n",
    "active = True\n",
    "\n",
    "while active:\n",
    "    user_number = int(input('Guess a number: '))\n",
    "    if(user_number == my_number):\n",
    "        print('You won!!!')\n",
    "        break\n",
    "    elif(user_number < my_number):\n",
    "        print('Number is too low',end=', ')\n",
    "        print(f'you have {chance} chance left')\n",
    "        chance -= 1\n",
    "    else:\n",
    "        print('Numer is too high',end=', ')\n",
    "        print(f'you have {chance} chance left')\n",
    "        chance -= 1\n",
    "    if(chance == 0):\n",
    "        break"
   ]
  },
  {
   "cell_type": "code",
   "execution_count": 17,
   "metadata": {},
   "outputs": [
    {
     "data": {
      "text/plain": [
       "range(10, 1, -1)"
      ]
     },
     "execution_count": 17,
     "metadata": {},
     "output_type": "execute_result"
    }
   ],
   "source": [
    "a = range(10,1,-1)\n",
    "\n",
    "a"
   ]
  },
  {
   "cell_type": "code",
   "execution_count": 26,
   "metadata": {
    "scrolled": true
   },
   "outputs": [
    {
     "name": "stdout",
     "output_type": "stream",
     "text": [
      "Enter a number: 4444554543334\n",
      "2222277271667\n",
      "6666831815002\n",
      "3333415907501\n",
      "10000247722504\n",
      "5000123861252\n",
      "2500061930626\n",
      "1250030965313\n",
      "3750092895940\n",
      "1875046447970\n",
      "937523223985\n",
      "2812569671956\n",
      "1406284835978\n",
      "703142417989\n",
      "2109427253968\n",
      "1054713626984\n",
      "527356813492\n",
      "263678406746\n",
      "131839203373\n",
      "395517610120\n",
      "197758805060\n",
      "98879402530\n",
      "49439701265\n",
      "148319103796\n",
      "74159551898\n",
      "37079775949\n",
      "111239327848\n",
      "55619663924\n",
      "27809831962\n",
      "13904915981\n",
      "41714747944\n",
      "20857373972\n",
      "10428686986\n",
      "5214343493\n",
      "15643030480\n",
      "7821515240\n",
      "3910757620\n",
      "1955378810\n",
      "977689405\n",
      "2933068216\n",
      "1466534108\n",
      "733267054\n",
      "366633527\n",
      "1099900582\n",
      "549950291\n",
      "1649850874\n",
      "824925437\n",
      "2474776312\n",
      "1237388156\n",
      "618694078\n",
      "309347039\n",
      "928041118\n",
      "464020559\n",
      "1392061678\n",
      "696030839\n",
      "2088092518\n",
      "1044046259\n",
      "3132138778\n",
      "1566069389\n",
      "4698208168\n",
      "2349104084\n",
      "1174552042\n",
      "587276021\n",
      "1761828064\n",
      "880914032\n",
      "440457016\n",
      "220228508\n",
      "110114254\n",
      "55057127\n",
      "165171382\n",
      "82585691\n",
      "247757074\n",
      "123878537\n",
      "371635612\n",
      "185817806\n",
      "92908903\n",
      "278726710\n",
      "139363355\n",
      "418090066\n",
      "209045033\n",
      "627135100\n",
      "313567550\n",
      "156783775\n",
      "470351326\n",
      "235175663\n",
      "705526990\n",
      "352763495\n",
      "1058290486\n",
      "529145243\n",
      "1587435730\n",
      "793717865\n",
      "2381153596\n",
      "1190576798\n",
      "595288399\n",
      "1785865198\n",
      "892932599\n",
      "2678797798\n",
      "1339398899\n",
      "4018196698\n",
      "2009098349\n",
      "6027295048\n",
      "3013647524\n",
      "1506823762\n",
      "753411881\n",
      "2260235644\n",
      "1130117822\n",
      "565058911\n",
      "1695176734\n",
      "847588367\n",
      "2542765102\n",
      "1271382551\n",
      "3814147654\n",
      "1907073827\n",
      "5721221482\n",
      "2860610741\n",
      "8581832224\n",
      "4290916112\n",
      "2145458056\n",
      "1072729028\n",
      "536364514\n",
      "268182257\n",
      "804546772\n",
      "402273386\n",
      "201136693\n",
      "603410080\n",
      "301705040\n",
      "150852520\n",
      "75426260\n",
      "37713130\n",
      "18856565\n",
      "56569696\n",
      "28284848\n",
      "14142424\n",
      "7071212\n",
      "3535606\n",
      "1767803\n",
      "5303410\n",
      "2651705\n",
      "7955116\n",
      "3977558\n",
      "1988779\n",
      "5966338\n",
      "2983169\n",
      "8949508\n",
      "4474754\n",
      "2237377\n",
      "6712132\n",
      "3356066\n",
      "1678033\n",
      "5034100\n",
      "2517050\n",
      "1258525\n",
      "3775576\n",
      "1887788\n",
      "943894\n",
      "471947\n",
      "1415842\n",
      "707921\n",
      "2123764\n",
      "1061882\n",
      "530941\n",
      "1592824\n",
      "796412\n",
      "398206\n",
      "199103\n",
      "597310\n",
      "298655\n",
      "895966\n",
      "447983\n",
      "1343950\n",
      "671975\n",
      "2015926\n",
      "1007963\n",
      "3023890\n",
      "1511945\n",
      "4535836\n",
      "2267918\n",
      "1133959\n",
      "3401878\n",
      "1700939\n",
      "5102818\n",
      "2551409\n",
      "7654228\n",
      "3827114\n",
      "1913557\n",
      "5740672\n",
      "2870336\n",
      "1435168\n",
      "717584\n",
      "358792\n",
      "179396\n",
      "89698\n",
      "44849\n",
      "134548\n",
      "67274\n",
      "33637\n",
      "100912\n",
      "50456\n",
      "25228\n",
      "12614\n",
      "6307\n",
      "18922\n",
      "9461\n",
      "28384\n",
      "14192\n",
      "7096\n",
      "3548\n",
      "1774\n",
      "887\n",
      "2662\n",
      "1331\n",
      "3994\n",
      "1997\n",
      "5992\n",
      "2996\n",
      "1498\n",
      "749\n",
      "2248\n",
      "1124\n",
      "562\n",
      "281\n",
      "844\n",
      "422\n",
      "211\n",
      "634\n",
      "317\n",
      "952\n",
      "476\n",
      "238\n",
      "119\n",
      "358\n",
      "179\n",
      "538\n",
      "269\n",
      "808\n",
      "404\n",
      "202\n",
      "101\n",
      "304\n",
      "152\n",
      "76\n",
      "38\n",
      "19\n",
      "58\n",
      "29\n",
      "88\n",
      "44\n",
      "22\n",
      "11\n",
      "34\n",
      "17\n",
      "52\n",
      "26\n",
      "13\n",
      "40\n",
      "20\n",
      "10\n",
      "5\n",
      "16\n",
      "8\n",
      "4\n",
      "2\n",
      "1\n",
      "1\n"
     ]
    }
   ],
   "source": [
    "user_number = int(input('Enter a number: '))\n",
    "\n",
    "number = user_number\n",
    "\n",
    "while number != 1:\n",
    "    \n",
    "    if(number % 2 != 0):\n",
    "        number = number * 3 + 1\n",
    "        \n",
    "    elif(number % 2 == 0):\n",
    "        number = number//2\n",
    "        \n",
    "    print(number)\n",
    "\n",
    "else:\n",
    "    print(number)"
   ]
  },
  {
   "cell_type": "code",
   "execution_count": 2,
   "metadata": {},
   "outputs": [
    {
     "name": "stdout",
     "output_type": "stream",
     "text": [
      "Enter a number: 6\n"
     ]
    }
   ],
   "source": [
    "user_number = int(input('Enter a number: '))\n",
    "\n",
    "if user_number %2:\n",
    "    print('even')"
   ]
  },
  {
   "cell_type": "code",
   "execution_count": 27,
   "metadata": {},
   "outputs": [
    {
     "name": "stdout",
     "output_type": "stream",
     "text": [
      "Enter anything: ytty\n",
      "ytty is a palindrome\n"
     ]
    }
   ],
   "source": [
    "user_input = input(\"Enter anything: \")\n",
    "\n",
    "if user_input[::-1] == user_input:\n",
    "    print(f'{user_input} is a palindrome')"
   ]
  },
  {
   "cell_type": "code",
   "execution_count": 58,
   "metadata": {},
   "outputs": [
    {
     "name": "stdout",
     "output_type": "stream",
     "text": [
      "********** *          **********\n",
      "*********  **         *********\n",
      "********   ***        ********\n",
      "*******    ****       *******\n",
      "******     *****      ******\n",
      "*****      ******     *****\n",
      "****       *******    ****\n",
      "***        ********   ***\n",
      "**         *********  **\n",
      "*          ********** *\n"
     ]
    }
   ],
   "source": [
    "count = 1\n",
    "for i in range(10,0,-1):\n",
    "    one = '*'* i\n",
    "    on = ' '* i\n",
    "    two = '*'* count\n",
    "    tw = ' '* count\n",
    "\n",
    "    print(f'{one}{tw}{two}{on}{one}')\n",
    "    count += 1"
   ]
  },
  {
   "cell_type": "code",
   "execution_count": 17,
   "metadata": {},
   "outputs": [
    {
     "name": "stdout",
     "output_type": "stream",
     "text": [
      "Enter a number: 4\n",
      "1\n",
      "2\n",
      "4\n",
      "7\n"
     ]
    }
   ],
   "source": [
    "user_input = int(input('Enter a number: '))\n",
    "\n",
    "old_number = 1\n",
    "for i in range(user_input):\n",
    "    new_number = i + old_number\n",
    "    print(new_number)\n",
    "    old_number = new_number"
   ]
  },
  {
   "cell_type": "code",
   "execution_count": 36,
   "metadata": {},
   "outputs": [
    {
     "data": {
      "text/plain": [
       "161"
      ]
     },
     "execution_count": 36,
     "metadata": {},
     "output_type": "execute_result"
    }
   ],
   "source": [
    "ord('¡')"
   ]
  },
  {
   "cell_type": "code",
   "execution_count": 47,
   "metadata": {},
   "outputs": [],
   "source": [
    "import random\n",
    "\n",
    "character = random.randint(ord('A'),ord('z'))\n",
    "\n"
   ]
  },
  {
   "cell_type": "code",
   "execution_count": 5,
   "metadata": {},
   "outputs": [],
   "source": [
    "ord('A')\n",
    "upperCase = []\n",
    "lowerCase = []\n",
    "for i in range(ord('A'),ord('Z')+1):\n",
    "    upperCase.append(chr(i))\n",
    "for i in range(ord('a'),ord('z')+1):\n",
    "    lowerCase.append(chr(i))"
   ]
  },
  {
   "cell_type": "code",
   "execution_count": 7,
   "metadata": {},
   "outputs": [
    {
     "name": "stdout",
     "output_type": "stream",
     "text": [
      "['A', 'B', 'C', 'D', 'E', 'F', 'G', 'H', 'I', 'J', 'K', 'L', 'M', 'N', 'O', 'P', 'Q', 'R', 'S', 'T', 'U', 'V', 'W', 'X', 'Y', 'Z']\n",
      "['a', 'b', 'c', 'd', 'e', 'f', 'g', 'h', 'i', 'j', 'k', 'l', 'm', 'n', 'o', 'p', 'q', 'r', 's', 't', 'u', 'v', 'w', 'x', 'y', 'z']"
     ]
    }
   ],
   "source": [
    "print(upperCase,end='')\n",
    "print()\n",
    "print(lowerCase,end='')"
   ]
  },
  {
   "cell_type": "code",
   "execution_count": 8,
   "metadata": {},
   "outputs": [
    {
     "name": "stdout",
     "output_type": "stream",
     "text": [
      "['z', 'y', 'x', 'w', 'v', 'u', 't', 's', 'r', 'q', 'p', 'o', 'n', 'm', 'l', 'k', 'j', 'i', 'h', 'g', 'f', 'e', 'd', 'c', 'b', 'a']\n"
     ]
    }
   ],
   "source": [
    "print(lowerCase\n",
    "      \n",
    "      [::-1])"
   ]
  },
  {
   "cell_type": "code",
   "execution_count": 40,
   "metadata": {},
   "outputs": [
    {
     "data": {
      "text/plain": [
       "46"
      ]
     },
     "execution_count": 40,
     "metadata": {},
     "output_type": "execute_result"
    }
   ],
   "source": [
    "ord('.')"
   ]
  },
  {
   "cell_type": "code",
   "execution_count": 41,
   "metadata": {},
   "outputs": [
    {
     "data": {
      "text/plain": [
       "'.'"
      ]
     },
     "execution_count": 41,
     "metadata": {},
     "output_type": "execute_result"
    }
   ],
   "source": [
    "chr(46)"
   ]
  },
  {
   "cell_type": "code",
   "execution_count": null,
   "metadata": {},
   "outputs": [],
   "source": []
  },
  {
   "cell_type": "code",
   "execution_count": 47,
   "metadata": {},
   "outputs": [
    {
     "data": {
      "text/plain": [
       "-1"
      ]
     },
     "execution_count": 47,
     "metadata": {},
     "output_type": "execute_result"
    }
   ],
   "source": [
    "name = 'my name is.'\n",
    "name.find('l')"
   ]
  },
  {
   "cell_type": "code",
   "execution_count": null,
   "metadata": {},
   "outputs": [],
   "source": []
  },
  {
   "cell_type": "code",
   "execution_count": null,
   "metadata": {},
   "outputs": [],
   "source": []
  },
  {
   "cell_type": "code",
   "execution_count": null,
   "metadata": {},
   "outputs": [],
   "source": []
  },
  {
   "cell_type": "code",
   "execution_count": null,
   "metadata": {},
   "outputs": [],
   "source": []
  },
  {
   "cell_type": "code",
   "execution_count": null,
   "metadata": {},
   "outputs": [],
   "source": []
  },
  {
   "cell_type": "code",
   "execution_count": null,
   "metadata": {},
   "outputs": [],
   "source": []
  },
  {
   "cell_type": "code",
   "execution_count": null,
   "metadata": {},
   "outputs": [],
   "source": []
  },
  {
   "cell_type": "code",
   "execution_count": null,
   "metadata": {},
   "outputs": [],
   "source": []
  },
  {
   "cell_type": "code",
   "execution_count": 7,
   "metadata": {},
   "outputs": [
    {
     "name": "stdout",
     "output_type": "stream",
     "text": [
      "Enter a new number: 4\n",
      "0\n",
      "1\n",
      "2\n",
      "3\n"
     ]
    }
   ],
   "source": [
    "user_number = int(input('Enter a new number: '))\n",
    "i= 0\n",
    "real_number = 1\n",
    "print(0)\n",
    "first_number = 1\n",
    "while i < user_number:\n",
    "    print(first_number)\n",
    "    second_number = first_number + real_number\n",
    "    first_number = second_number\n",
    "    i+=1"
   ]
  },
  {
   "cell_type": "code",
   "execution_count": null,
   "metadata": {},
   "outputs": [],
   "source": []
  },
  {
   "cell_type": "code",
   "execution_count": null,
   "metadata": {},
   "outputs": [],
   "source": [
    "1+1=2 1+2=3 2+3=5 3+5=8"
   ]
  },
  {
   "cell_type": "code",
   "execution_count": 17,
   "metadata": {},
   "outputs": [
    {
     "name": "stdout",
     "output_type": "stream",
     "text": [
      "Enter number: 6\n",
      "1\n",
      "1\n",
      "2\n",
      "3\n",
      "5\n",
      "8\n"
     ]
    }
   ],
   "source": [
    "user_number = int(input('Enter number: '))\n",
    "i = 0\n",
    "num1,num2 =0,1\n",
    "\n",
    "while i < user_number:\n",
    "    num3 = num1 + num2\n",
    "    num1, num2 = num2, num3    \n",
    "    print(num1)\n",
    "    i += 1"
   ]
  },
  {
   "cell_type": "code",
   "execution_count": 63,
   "metadata": {},
   "outputs": [
    {
     "name": "stdout",
     "output_type": "stream",
     "text": [
      "Enter number: 5\n",
      "120\n"
     ]
    }
   ],
   "source": [
    "n = int(input('Enter number: '))\n",
    "\n",
    "factorial = 1\n",
    "for i in range(1,n+1):\n",
    "    factorial = factorial * i\n",
    "print(factorial)"
   ]
  },
  {
   "cell_type": "code",
   "execution_count": 62,
   "metadata": {},
   "outputs": [
    {
     "name": "stdout",
     "output_type": "stream",
     "text": [
      "gint\n"
     ]
    }
   ],
   "source": [
    "name = 'String'\n",
    "s,g,i,t,n = name[0], name[-1],name[-3],name[1],name[-2]\n",
    "print(g+i+n+t)"
   ]
  },
  {
   "cell_type": "code",
   "execution_count": 64,
   "metadata": {},
   "outputs": [
    {
     "name": "stdout",
     "output_type": "stream",
     "text": [
      "Enter number: 5\n",
      "2\n",
      "4\n",
      "7\n",
      "11\n",
      "16\n"
     ]
    }
   ],
   "source": [
    "n = int(input('Enter number: '))\n",
    "\n",
    "factorial = 1\n",
    "for i in range(1,n+1):\n",
    "    factorial = factorial +i\n",
    "    print(factorial)"
   ]
  },
  {
   "cell_type": "code",
   "execution_count": 76,
   "metadata": {},
   "outputs": [
    {
     "data": {
      "text/plain": [
       "['uysgsfffstttsrauuat']"
      ]
     },
     "execution_count": 76,
     "metadata": {},
     "output_type": "execute_result"
    }
   ],
   "source": [
    "a = my.split()"
   ]
  },
  {
   "cell_type": "code",
   "execution_count": 77,
   "metadata": {},
   "outputs": [
    {
     "data": {
      "text/plain": [
       "['uysgsfffstttsrauuat']"
      ]
     },
     "execution_count": 77,
     "metadata": {},
     "output_type": "execute_result"
    }
   ],
   "source": [
    "my.splitlines()"
   ]
  },
  {
   "cell_type": "code",
   "execution_count": null,
   "metadata": {},
   "outputs": [],
   "source": []
  },
  {
   "cell_type": "code",
   "execution_count": 117,
   "metadata": {},
   "outputs": [
    {
     "data": {
      "text/plain": [
       "2"
      ]
     },
     "execution_count": 117,
     "metadata": {},
     "output_type": "execute_result"
    }
   ],
   "source": [
    "s = 'This is the. world of Python'\n",
    "s = s.count('t')\n",
    "s"
   ]
  },
  {
   "cell_type": "code",
   "execution_count": 115,
   "metadata": {},
   "outputs": [
    {
     "data": {
      "text/plain": [
       "'THIS IS THE. WORLD OF PYTHON'"
      ]
     },
     "execution_count": 115,
     "metadata": {},
     "output_type": "execute_result"
    }
   ],
   "source": [
    "s.replace('Python','Java')"
   ]
  },
  {
   "cell_type": "code",
   "execution_count": 84,
   "metadata": {},
   "outputs": [],
   "source": [
    "len??"
   ]
  },
  {
   "cell_type": "code",
   "execution_count": 97,
   "metadata": {},
   "outputs": [],
   "source": [
    "s = s.replace('o','=')"
   ]
  },
  {
   "cell_type": "code",
   "execution_count": 100,
   "metadata": {},
   "outputs": [
    {
     "data": {
      "text/plain": [
       "'This is the. w=rld =f Pyth=n'"
      ]
     },
     "execution_count": 100,
     "metadata": {},
     "output_type": "execute_result"
    }
   ],
   "source": []
  },
  {
   "cell_type": "code",
   "execution_count": null,
   "metadata": {},
   "outputs": [],
   "source": []
  },
  {
   "cell_type": "code",
   "execution_count": 101,
   "metadata": {},
   "outputs": [
    {
     "data": {
      "text/plain": [
       "'abcdefghijklmnopqrstuvwxyz'"
      ]
     },
     "execution_count": 101,
     "metadata": {},
     "output_type": "execute_result"
    }
   ],
   "source": [
    "import string\n",
    "\n",
    "string.ascii_lowercase"
   ]
  },
  {
   "cell_type": "code",
   "execution_count": 102,
   "metadata": {},
   "outputs": [
    {
     "data": {
      "text/plain": [
       "'ABCDEFGHIJKLMNOPQRSTUVWXYZ'"
      ]
     },
     "execution_count": 102,
     "metadata": {},
     "output_type": "execute_result"
    }
   ],
   "source": [
    "string.ascii_uppercase"
   ]
  },
  {
   "cell_type": "code",
   "execution_count": 103,
   "metadata": {},
   "outputs": [
    {
     "data": {
      "text/plain": [
       "'0123456789abcdefABCDEF'"
      ]
     },
     "execution_count": 103,
     "metadata": {},
     "output_type": "execute_result"
    }
   ],
   "source": [
    "string.hexdigits"
   ]
  },
  {
   "cell_type": "code",
   "execution_count": 106,
   "metadata": {},
   "outputs": [
    {
     "data": {
      "text/plain": [
       "<function posix.getcwd()>"
      ]
     },
     "execution_count": 106,
     "metadata": {},
     "output_type": "execute_result"
    }
   ],
   "source": []
  },
  {
   "cell_type": "code",
   "execution_count": null,
   "metadata": {},
   "outputs": [],
   "source": []
  },
  {
   "cell_type": "code",
   "execution_count": 111,
   "metadata": {},
   "outputs": [],
   "source": [
    "n = 1\n",
    "s = f'this is number {n}'"
   ]
  },
  {
   "cell_type": "code",
   "execution_count": 112,
   "metadata": {},
   "outputs": [
    {
     "name": "stdout",
     "output_type": "stream",
     "text": [
      "this is number 1\n"
     ]
    }
   ],
   "source": [
    "print(s)"
   ]
  },
  {
   "cell_type": "code",
   "execution_count": 132,
   "metadata": {},
   "outputs": [
    {
     "data": {
      "text/plain": [
       "'                  10'"
      ]
     },
     "execution_count": 132,
     "metadata": {},
     "output_type": "execute_result"
    }
   ],
   "source": [
    "f'{10:20}'"
   ]
  },
  {
   "cell_type": "code",
   "execution_count": 47,
   "metadata": {},
   "outputs": [
    {
     "name": "stdout",
     "output_type": "stream",
     "text": [
      "😀         \n",
      "😀😀😀       \n",
      "😀😀😀😀😀     \n",
      "😀😀😀😀😀😀😀   \n",
      "😀😀😀😀😀😀😀😀😀 \n"
     ]
    }
   ],
   "source": [
    "smiley = '\\U0001f600'\n",
    "for i in range (1,11,2):\n",
    "    print(f'{smiley *i:<10}')"
   ]
  },
  {
   "cell_type": "code",
   "execution_count": 16,
   "metadata": {},
   "outputs": [
    {
     "name": "stdout",
     "output_type": "stream",
     "text": [
      "*          ********** **********           *\n",
      "**         *********   *********          **\n",
      "***        ********     ********         ***\n",
      "****       *******       *******        ****\n",
      "*****      ******         ******       *****\n",
      "******     *****           *****      ******\n",
      "*******    ****             ****     *******\n",
      "********   ***               ***    ********\n",
      "*********  **                 **   *********\n",
      "********** *                   *  **********\n"
     ]
    }
   ],
   "source": [
    "r = '*'\n",
    "for i in range(10):\n",
    "    print(f'{r*(i+1):<10} {r *(10 -i):<10} {r *(10 -i):>10}  {r *(i+1):>10}')"
   ]
  },
  {
   "cell_type": "code",
   "execution_count": null,
   "metadata": {},
   "outputs": [],
   "source": []
  },
  {
   "cell_type": "code",
   "execution_count": null,
   "metadata": {},
   "outputs": [],
   "source": []
  },
  {
   "cell_type": "code",
   "execution_count": 72,
   "metadata": {},
   "outputs": [
    {
     "name": "stdout",
     "output_type": "stream",
     "text": [
      "Enter dividend: 100\n",
      "Enter divisor: 1\n",
      "100\n",
      "1.6493998009731098e+18\n"
     ]
    }
   ],
   "source": [
    "import time\n",
    "import os\n",
    "\n",
    "dividend = int(input('Enter dividend: '))\n",
    "divisor = int(input('Enter divisor: '))\n",
    "start = time.time()\n",
    "divider = divisor\n",
    "count = 0;\n",
    "active = True#\n",
    "while active:\n",
    "    if dividend >= divisor:\n",
    "        divisor += divider\n",
    "        count+= 1\n",
    "    else:\n",
    "        active = False\n",
    "\n",
    "print(count)\n",
    "print(time.time()-start)"
   ]
  },
  {
   "cell_type": "code",
   "execution_count": 25,
   "metadata": {},
   "outputs": [
    {
     "data": {
      "text/plain": [
       "42"
      ]
     },
     "execution_count": 25,
     "metadata": {},
     "output_type": "execute_result"
    }
   ],
   "source": [
    "abs()"
   ]
  },
  {
   "cell_type": "code",
   "execution_count": 58,
   "metadata": {},
   "outputs": [
    {
     "name": "stdout",
     "output_type": "stream",
     "text": [
      "6.2\n"
     ]
    }
   ],
   "source": [
    "i, j = divmod(50,8)\n",
    "print(f'{i}.{j}')"
   ]
  },
  {
   "cell_type": "code",
   "execution_count": 59,
   "metadata": {},
   "outputs": [
    {
     "data": {
      "text/plain": [
       "6.25"
      ]
     },
     "execution_count": 59,
     "metadata": {},
     "output_type": "execute_result"
    }
   ],
   "source": [
    "50/8"
   ]
  },
  {
   "cell_type": "code",
   "execution_count": 43,
   "metadata": {},
   "outputs": [
    {
     "name": "stdout",
     "output_type": "stream",
     "text": [
      "my name is segun\n"
     ]
    }
   ],
   "source": [
    "name = 'segun'\n",
    "print(f'my name is {name}')"
   ]
  },
  {
   "cell_type": "code",
   "execution_count": 64,
   "metadata": {
    "scrolled": true
   },
   "outputs": [
    {
     "name": "stdout",
     "output_type": "stream",
     "text": [
      "86\n"
     ]
    }
   ],
   "source": [
    "from\n",
    "\n",
    "list_of_names = []\n",
    "\n",
    "for i in range(100):\n",
    "    name = 'userid'+str(i+1)\n",
    "    list_of_names.append(name)\n",
    "print(list_of_names.index('userid87'))\n"
   ]
  },
  {
   "cell_type": "code",
   "execution_count": null,
   "metadata": {},
   "outputs": [],
   "source": []
  },
  {
   "cell_type": "code",
   "execution_count": null,
   "metadata": {},
   "outputs": [],
   "source": []
  },
  {
   "cell_type": "code",
   "execution_count": null,
   "metadata": {},
   "outputs": [],
   "source": []
  },
  {
   "cell_type": "code",
   "execution_count": null,
   "metadata": {},
   "outputs": [],
   "source": []
  },
  {
   "cell_type": "code",
   "execution_count": 6,
   "metadata": {},
   "outputs": [
    {
     "name": "stdout",
     "output_type": "stream",
     "text": [
      "                      **********\n",
      "*                    ********** \n",
      "**                  **********  \n",
      "***                **********   \n",
      "****              **********    \n",
      "*****            **********     \n",
      "******          **********      \n",
      "*******        **********       \n",
      "********      **********        \n",
      "*********    **********         \n",
      "**********  **********          \n"
     ]
    }
   ],
   "source": [
    "name = \"*\"\n",
    "\n",
    "for i in range(0,11):\n",
    "    \n",
    "    print(f\"{name *i:<10}  {name *i:>10}{name * (10 -i):<10}\")"
   ]
  },
  {
   "cell_type": "code",
   "execution_count": 190,
   "metadata": {},
   "outputs": [
    {
     "name": "stdout",
     "output_type": "stream",
     "text": [
      "maggi1\n",
      "salt1\n",
      "rice3\n",
      "##################################################################################\n",
      "Florence & Sons Group of Company,\n",
      "312 Herbert Merculy way,\n",
      "Sabo Yaba.\n",
      " 07011278668\n",
      "##################################################################################\n",
      "                      products | qty| price | total\n",
      "                         maggi |  1 |  10   |\n",
      "                          salt |  1 |  50   |\n",
      "                          rice |  3 | 800   |\n",
      "                         total |  5 | _____ | 2460\n",
      "\n",
      "                                ################                                 \n",
      "                                    Good Bye                                     \n",
      "                                ################                                \n"
     ]
    }
   ],
   "source": [
    "message = 'Florence & Sons Group of Company,\\n312 Herbert Merculy way,\\nSabo Yaba.\\n 07011278668'\n",
    "pounds  = '#'\n",
    "\n",
    "columns = ['products','qty','price','total']\n",
    "product = ['maggi','salt','rice']\n",
    "qty = []\n",
    "price = [10,50,800]\n",
    "\n",
    "\n",
    "total_price = []\n",
    "s = '_____'\n",
    "\n",
    "i = 0\n",
    "while i<len(product):\n",
    "    qty.append(int(input(product[i])))\n",
    "    total_price.append(qty[i] * price[i])\n",
    "    i += 1\n",
    "    \n",
    "total_qty = sum(qty)\n",
    "print(f'{pounds* len(message)}\\n{message:>30}\\n{pounds* len(message)}')\n",
    "print(f'{columns[0]:>30} | {columns[1]:>2}| {columns[2]:>2} | {columns[3]:>2}')\n",
    "\n",
    "i = 0\n",
    "while i < len(product):\n",
    "    print(f'{product[i]:>30} | {qty[i]:>2} | {price[i]:>3}   |')\n",
    "    i+=1\n",
    "print(f'{columns[3]:>30} | {total_qty:>2} | {s:>3} | {sum(total_price):>3}')\n",
    "bye = 'Good Bye'\n",
    "\n",
    "print(f'\\n{(pounds*len(bye))*2:^80} \\n{bye:^80} \\n{(pounds*len(bye))*2:^80}')"
   ]
  },
  {
   "cell_type": "code",
   "execution_count": 182,
   "metadata": {},
   "outputs": [],
   "source": [
    "a,b = divmod(45,2)"
   ]
  },
  {
   "cell_type": "code",
   "execution_count": 124,
   "metadata": {},
   "outputs": [
    {
     "data": {
      "text/plain": [
       "(22, 1)"
      ]
     },
     "execution_count": 124,
     "metadata": {},
     "output_type": "execute_result"
    }
   ],
   "source": [
    "a,b"
   ]
  },
  {
   "cell_type": "code",
   "execution_count": null,
   "metadata": {},
   "outputs": [],
   "source": []
  },
  {
   "cell_type": "code",
   "execution_count": 125,
   "metadata": {},
   "outputs": [],
   "source": [
    "t = {'Name': 'segun',\n",
    "    'Age': 12,\n",
    "    'Sex': 'male',\n",
    "    'Hubby':['Python','Java'],\n",
    "    'Is wife beater': False}"
   ]
  },
  {
   "cell_type": "code",
   "execution_count": 126,
   "metadata": {},
   "outputs": [
    {
     "name": "stdout",
     "output_type": "stream",
     "text": [
      "Name   segun\n",
      "Age   12\n",
      "Sex   male\n",
      "Hubby   ['Python', 'Java']\n",
      "Is wife beater   False\n"
     ]
    }
   ],
   "source": [
    "for key,values in t.items():\n",
    "    print(key ,' ', values)"
   ]
  },
  {
   "cell_type": "code",
   "execution_count": 127,
   "metadata": {},
   "outputs": [
    {
     "name": "stdout",
     "output_type": "stream",
     "text": [
      "dict_items([('Name', 'segun'), ('Age', 12), ('Sex', 'male'), ('Hubby', ['Python', 'Java']), ('Is wife beater', False)])\n"
     ]
    }
   ],
   "source": [
    "print(t.items())"
   ]
  },
  {
   "cell_type": "code",
   "execution_count": 92,
   "metadata": {},
   "outputs": [
    {
     "ename": "TypeError",
     "evalue": "string indices must be integers",
     "output_type": "error",
     "traceback": [
      "\u001b[0;31m---------------------------------------------------------------------------\u001b[0m",
      "\u001b[0;31mTypeError\u001b[0m                                 Traceback (most recent call last)",
      "\u001b[0;32m<ipython-input-92-50066e1f9937>\u001b[0m in \u001b[0;36m<module>\u001b[0;34m\u001b[0m\n\u001b[1;32m      1\u001b[0m \u001b[0;32mfor\u001b[0m \u001b[0mkey\u001b[0m \u001b[0;32min\u001b[0m \u001b[0mt\u001b[0m\u001b[0;34m:\u001b[0m\u001b[0;34m\u001b[0m\u001b[0;34m\u001b[0m\u001b[0m\n\u001b[0;32m----> 2\u001b[0;31m     \u001b[0mprint\u001b[0m\u001b[0;34m(\u001b[0m\u001b[0mkey\u001b[0m\u001b[0;34m[\u001b[0m\u001b[0;34m'a'\u001b[0m\u001b[0;34m]\u001b[0m\u001b[0;34m)\u001b[0m\u001b[0;34m\u001b[0m\u001b[0;34m\u001b[0m\u001b[0m\n\u001b[0m",
      "\u001b[0;31mTypeError\u001b[0m: string indices must be integers"
     ]
    }
   ],
   "source": [
    "for key in t:\n",
    "    print(key['a'])"
   ]
  },
  {
   "cell_type": "code",
   "execution_count": 133,
   "metadata": {},
   "outputs": [],
   "source": [
    "prof = dict(name ='segun',age = 12)"
   ]
  },
  {
   "cell_type": "code",
   "execution_count": 134,
   "metadata": {},
   "outputs": [
    {
     "data": {
      "text/plain": [
       "{'name': 'segun', 'age': 12}"
      ]
     },
     "execution_count": 134,
     "metadata": {},
     "output_type": "execute_result"
    }
   ],
   "source": [
    "prof"
   ]
  },
  {
   "cell_type": "code",
   "execution_count": 174,
   "metadata": {},
   "outputs": [],
   "source": [
    "lst = ['Segun','sege','oko','mama','e']\n",
    "lst.extend(['Kurubete','Kurubete','koga','ju','go','lo'])\n"
   ]
  },
  {
   "cell_type": "code",
   "execution_count": 175,
   "metadata": {},
   "outputs": [],
   "source": [
    "fruit = ['apple','orange']\n",
    "fruit.extend(['pear'])"
   ]
  },
  {
   "cell_type": "code",
   "execution_count": 176,
   "metadata": {},
   "outputs": [],
   "source": [
    "fruit.count('apple')\n",
    "if 'apple' in fruit:\n",
    "    fruit.remove('apple')"
   ]
  },
  {
   "cell_type": "code",
   "execution_count": 177,
   "metadata": {},
   "outputs": [
    {
     "name": "stdout",
     "output_type": "stream",
     "text": [
      "['e', 'ju', 'go', 'lo', 'oko', 'sege', 'mama', 'koga', 'Segun', 'Kurubete', 'Kurubete']"
     ]
    }
   ],
   "source": [
    "lst.sort(key=len)\n",
    "print(lst,end='')"
   ]
  },
  {
   "cell_type": "code",
   "execution_count": null,
   "metadata": {},
   "outputs": [],
   "source": []
  },
  {
   "cell_type": "code",
   "execution_count": null,
   "metadata": {},
   "outputs": [],
   "source": []
  },
  {
   "cell_type": "code",
   "execution_count": null,
   "metadata": {},
   "outputs": [],
   "source": []
  },
  {
   "cell_type": "code",
   "execution_count": 203,
   "metadata": {},
   "outputs": [
    {
     "name": "stdout",
     "output_type": "stream",
     "text": [
      "2 X 1 = 2 \n",
      "2 X 2 = 4 \n",
      "2 X 3 = 6 \n",
      "2 X 4 = 8 \n",
      "2 X 5 = 10 \n",
      "2 X 6 = 12 \n",
      "2 X 7 = 14 \n",
      "2 X 8 = 16 \n",
      "2 X 9 = 18 \n",
      "2 X 10 = 20 \n",
      "2 X 11 = 22 \n",
      "2 X 12 = 24 \n",
      " \n",
      "3 X 1 = 3 \n",
      "3 X 2 = 6 \n",
      "3 X 3 = 9 \n",
      "3 X 4 = 12 \n",
      "3 X 5 = 15 \n",
      "3 X 6 = 18 \n",
      "3 X 7 = 21 \n",
      "3 X 8 = 24 \n",
      "3 X 9 = 27 \n",
      "3 X 10 = 30 \n",
      "3 X 11 = 33 \n",
      "3 X 12 = 36 \n",
      " \n",
      "4 X 1 = 4 \n",
      "4 X 2 = 8 \n",
      "4 X 3 = 12 \n",
      "4 X 4 = 16 \n",
      "4 X 5 = 20 \n",
      "4 X 6 = 24 \n",
      "4 X 7 = 28 \n",
      "4 X 8 = 32 \n",
      "4 X 9 = 36 \n",
      "4 X 10 = 40 \n",
      "4 X 11 = 44 \n",
      "4 X 12 = 48 \n",
      " \n",
      "5 X 1 = 5 \n",
      "5 X 2 = 10 \n",
      "5 X 3 = 15 \n",
      "5 X 4 = 20 \n",
      "5 X 5 = 25 \n",
      "5 X 6 = 30 \n",
      "5 X 7 = 35 \n",
      "5 X 8 = 40 \n",
      "5 X 9 = 45 \n",
      "5 X 10 = 50 \n",
      "5 X 11 = 55 \n",
      "5 X 12 = 60 \n",
      " \n",
      "6 X 1 = 6 \n",
      "6 X 2 = 12 \n",
      "6 X 3 = 18 \n",
      "6 X 4 = 24 \n",
      "6 X 5 = 30 \n",
      "6 X 6 = 36 \n",
      "6 X 7 = 42 \n",
      "6 X 8 = 48 \n",
      "6 X 9 = 54 \n",
      "6 X 10 = 60 \n",
      "6 X 11 = 66 \n",
      "6 X 12 = 72 \n",
      " \n",
      "7 X 1 = 7 \n",
      "7 X 2 = 14 \n",
      "7 X 3 = 21 \n",
      "7 X 4 = 28 \n",
      "7 X 5 = 35 \n",
      "7 X 6 = 42 \n",
      "7 X 7 = 49 \n",
      "7 X 8 = 56 \n",
      "7 X 9 = 63 \n",
      "7 X 10 = 70 \n",
      "7 X 11 = 77 \n",
      "7 X 12 = 84 \n",
      " \n",
      "8 X 1 = 8 \n",
      "8 X 2 = 16 \n",
      "8 X 3 = 24 \n",
      "8 X 4 = 32 \n",
      "8 X 5 = 40 \n",
      "8 X 6 = 48 \n",
      "8 X 7 = 56 \n",
      "8 X 8 = 64 \n",
      "8 X 9 = 72 \n",
      "8 X 10 = 80 \n",
      "8 X 11 = 88 \n",
      "8 X 12 = 96 \n",
      " \n",
      "9 X 1 = 9 \n",
      "9 X 2 = 18 \n",
      "9 X 3 = 27 \n",
      "9 X 4 = 36 \n",
      "9 X 5 = 45 \n",
      "9 X 6 = 54 \n",
      "9 X 7 = 63 \n",
      "9 X 8 = 72 \n",
      "9 X 9 = 81 \n",
      "9 X 10 = 90 \n",
      "9 X 11 = 99 \n",
      "9 X 12 = 108 \n",
      " \n",
      "10 X 1 = 10 \n",
      "10 X 2 = 20 \n",
      "10 X 3 = 30 \n",
      "10 X 4 = 40 \n",
      "10 X 5 = 50 \n",
      "10 X 6 = 60 \n",
      "10 X 7 = 70 \n",
      "10 X 8 = 80 \n",
      "10 X 9 = 90 \n",
      "10 X 10 = 100 \n",
      "10 X 11 = 110 \n",
      "10 X 12 = 120 \n",
      " \n",
      "11 X 1 = 11 \n",
      "11 X 2 = 22 \n",
      "11 X 3 = 33 \n",
      "11 X 4 = 44 \n",
      "11 X 5 = 55 \n",
      "11 X 6 = 66 \n",
      "11 X 7 = 77 \n",
      "11 X 8 = 88 \n",
      "11 X 9 = 99 \n",
      "11 X 10 = 110 \n",
      "11 X 11 = 121 \n",
      "11 X 12 = 132 \n",
      " \n",
      "12 X 1 = 12 \n",
      "12 X 2 = 24 \n",
      "12 X 3 = 36 \n",
      "12 X 4 = 48 \n",
      "12 X 5 = 60 \n",
      "12 X 6 = 72 \n",
      "12 X 7 = 84 \n",
      "12 X 8 = 96 \n",
      "12 X 9 = 108 \n",
      "12 X 10 = 120 \n",
      "12 X 11 = 132 \n",
      "12 X 12 = 144 \n",
      " \n",
      "13 X 1 = 13 \n",
      "13 X 2 = 26 \n",
      "13 X 3 = 39 \n",
      "13 X 4 = 52 \n",
      "13 X 5 = 65 \n",
      "13 X 6 = 78 \n",
      "13 X 7 = 91 \n",
      "13 X 8 = 104 \n",
      "13 X 9 = 117 \n",
      "13 X 10 = 130 \n",
      "13 X 11 = 143 \n",
      "13 X 12 = 156 \n",
      " \n"
     ]
    }
   ],
   "source": [
    "i = 1\n",
    "while i < 13:\n",
    "    j = 1\n",
    "    i+=1\n",
    "    while j < 13:\n",
    "        print(f'{i} X {j} = {i*j}',end =' ')\n",
    "        print()\n",
    "        j+=1\n",
    "    print(end =' \\n')\n"
   ]
  },
  {
   "cell_type": "code",
   "execution_count": null,
   "metadata": {},
   "outputs": [],
   "source": [
    "def is_valid_brackets(brackets):\n",
    "    "
   ]
  },
  {
   "cell_type": "code",
   "execution_count": 9,
   "metadata": {},
   "outputs": [
    {
     "data": {
      "text/plain": [
       "4"
      ]
     },
     "execution_count": 9,
     "metadata": {},
     "output_type": "execute_result"
    }
   ],
   "source": [
    "import random\n",
    "\n",
    "random.seed(76)\n",
    "random.randint(0,10)\n",
    "random.randint(0,100)\n",
    "random.randrange(0,10,2)\n",
    "random.randrange(0,10,2)\n",
    "random.randrange(0,10,2)"
   ]
  },
  {
   "cell_type": "code",
   "execution_count": 10,
   "metadata": {},
   "outputs": [
    {
     "data": {
      "text/plain": [
       "0.05276590897233269"
      ]
     },
     "execution_count": 10,
     "metadata": {},
     "output_type": "execute_result"
    }
   ],
   "source": [
    "random.random()"
   ]
  },
  {
   "cell_type": "code",
   "execution_count": 16,
   "metadata": {},
   "outputs": [
    {
     "data": {
      "text/plain": [
       "8"
      ]
     },
     "execution_count": 16,
     "metadata": {},
     "output_type": "execute_result"
    }
   ],
   "source": [
    "l = [1,2,3,4,5,6,7,8]\n",
    "random.choice(l)"
   ]
  },
  {
   "cell_type": "code",
   "execution_count": 20,
   "metadata": {},
   "outputs": [],
   "source": [
    "random.shuffle(l)"
   ]
  },
  {
   "cell_type": "code",
   "execution_count": 21,
   "metadata": {},
   "outputs": [
    {
     "data": {
      "text/plain": [
       "[7, 4, 8, 1, 6, 2, 3, 5]"
      ]
     },
     "execution_count": 21,
     "metadata": {},
     "output_type": "execute_result"
    }
   ],
   "source": [
    "l"
   ]
  },
  {
   "cell_type": "code",
   "execution_count": 22,
   "metadata": {},
   "outputs": [],
   "source": [
    "def get_digit(number, position):\n",
    "    '''return digit at position in number, counting from right'''\n",
    "    return number//(10**position)%10"
   ]
  },
  {
   "cell_type": "code",
   "execution_count": 23,
   "metadata": {},
   "outputs": [
    {
     "name": "stdout",
     "output_type": "stream",
     "text": [
      "Help on function get_digit in module __main__:\n",
      "\n",
      "get_digit(number, position)\n",
      "    return digit at position in number, counting from right\n",
      "\n"
     ]
    }
   ],
   "source": [
    "help(get_digit)"
   ]
  },
  {
   "cell_type": "code",
   "execution_count": 29,
   "metadata": {},
   "outputs": [
    {
     "data": {
      "text/plain": [
       "2"
      ]
     },
     "execution_count": 29,
     "metadata": {},
     "output_type": "execute_result"
    }
   ],
   "source": [
    "get_digit(25434,4)"
   ]
  },
  {
   "cell_type": "code",
   "execution_count": null,
   "metadata": {},
   "outputs": [],
   "source": []
  },
  {
   "cell_type": "code",
   "execution_count": null,
   "metadata": {},
   "outputs": [],
   "source": []
  },
  {
   "cell_type": "code",
   "execution_count": null,
   "metadata": {},
   "outputs": [],
   "source": []
  },
  {
   "cell_type": "code",
   "execution_count": null,
   "metadata": {},
   "outputs": [],
   "source": []
  }
 ],
 "metadata": {
  "kernelspec": {
   "display_name": "Python 3",
   "language": "python",
   "name": "python3"
  },
  "language_info": {
   "codemirror_mode": {
    "name": "ipython",
    "version": 3
   },
   "file_extension": ".py",
   "mimetype": "text/x-python",
   "name": "python",
   "nbconvert_exporter": "python",
   "pygments_lexer": "ipython3",
   "version": "3.7.3"
  }
 },
 "nbformat": 4,
 "nbformat_minor": 2
}
